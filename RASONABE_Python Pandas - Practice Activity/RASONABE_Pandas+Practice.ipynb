{
  "metadata": {
    "kernelspec": {
      "name": "python",
      "display_name": "Python (Pyodide)",
      "language": "python"
    },
    "language_info": {
      "codemirror_mode": {
        "name": "python",
        "version": 3
      },
      "file_extension": ".py",
      "mimetype": "text/x-python",
      "name": "python",
      "nbconvert_exporter": "python",
      "pygments_lexer": "ipython3",
      "version": "3.8"
    },
    "toc": {
      "nav_menu": {
        "height": "48px",
        "width": "252px"
      },
      "number_sections": true,
      "sideBar": true,
      "skip_h1_title": false,
      "toc_cell": false,
      "toc_position": {},
      "toc_section_display": "block",
      "toc_window_display": false
    }
  },
  "nbformat_minor": 4,
  "nbformat": 4,
  "cells": [
    {
      "cell_type": "markdown",
      "source": "# Part 1",
      "metadata": {
        "collapsed": true,
        "jupyter": {
          "outputs_hidden": true
        }
      }
    },
    {
      "cell_type": "markdown",
      "source": "The file \"Purchase_Data.csv\" contains purchase data at a Chinese supermarket for various products.  Read this csv into a dataframe called df_data and use the head() method to check that you have read in the data correctly. Make sure you import pandas.",
      "metadata": {}
    },
    {
      "cell_type": "code",
      "source": "#Write your code here\nimport pandas as pd\n\n# Read the CSV file into a DataFrame\ndf_data = pd.read_csv(\"Purchase_Data.csv\")\n\n# Check the first few rows of the DataFrame\nprint(df_data.head())\n",
      "metadata": {
        "collapsed": false,
        "jupyter": {
          "outputs_hidden": false
        },
        "trusted": true
      },
      "outputs": [
        {
          "name": "stdout",
          "text": "   invoice_number   invoice_time store_id  product_id  category_id  num_item  \\\n0    2.020000e+11  7/15/15 10:45     G816     7000300       210101       1.0   \n1    2.020000e+11  7/15/15 12:16     G816     7070884        70203       1.0   \n2    2.020000e+11  7/15/15 12:16     G816     7070884        70203       1.0   \n3    2.020000e+11  7/15/15 12:16     G816     7070891        70401       1.0   \n4    2.020000e+11  7/15/15 12:16     G816     7090363        70401       1.0   \n\n   price  \n0    2.0  \n1    2.0  \n2    2.0  \n3    6.0  \n4    6.0  \n",
          "output_type": "stream"
        }
      ],
      "execution_count": 77
    },
    {
      "cell_type": "markdown",
      "source": "Use the dtypes attribute to view how each column is stored",
      "metadata": {}
    },
    {
      "cell_type": "code",
      "source": "#Write your code here\nprint(df_data.dtypes)",
      "metadata": {
        "collapsed": false,
        "jupyter": {
          "outputs_hidden": false
        },
        "trusted": true
      },
      "outputs": [
        {
          "name": "stdout",
          "text": "invoice_number    float64\ninvoice_time       object\nstore_id           object\nproduct_id          int64\ncategory_id         int64\nnum_item          float64\nprice             float64\ndtype: object\n",
          "output_type": "stream"
        }
      ],
      "execution_count": 78
    },
    {
      "cell_type": "markdown",
      "source": "Slice the first two columns using .loc and store the result in a variable called result_1.",
      "metadata": {}
    },
    {
      "cell_type": "code",
      "source": "result_1 = df_data.loc[:, :'invoice_time']\n\nprint(result_1)\n",
      "metadata": {
        "collapsed": false,
        "jupyter": {
          "outputs_hidden": false
        },
        "trusted": true
      },
      "outputs": [
        {
          "name": "stdout",
          "text": "      invoice_number   invoice_time\n0       2.020000e+11  7/15/15 10:45\n1       2.020000e+11  7/15/15 12:16\n2       2.020000e+11  7/15/15 12:16\n3       2.020000e+11  7/15/15 12:16\n4       2.020000e+11  7/15/15 12:16\n...              ...            ...\n5377    2.020000e+11   9/5/15 23:07\n5378    2.020000e+11   9/5/15 23:23\n5379    2.020000e+11   9/5/15 23:24\n5380    2.020000e+11   9/5/15 23:32\n5381    2.020000e+11   9/5/15 23:38\n\n[5382 rows x 2 columns]\n",
          "output_type": "stream"
        }
      ],
      "execution_count": 79
    },
    {
      "cell_type": "markdown",
      "source": "Slice the first two rows using .loc and store the result in a variable called result_2.",
      "metadata": {}
    },
    {
      "cell_type": "code",
      "source": "#Write you code here\nresult_2 = df_data.loc[:1]\nprint(result_2)",
      "metadata": {
        "collapsed": false,
        "jupyter": {
          "outputs_hidden": false
        },
        "trusted": true
      },
      "outputs": [
        {
          "name": "stdout",
          "text": "   invoice_number   invoice_time store_id  product_id  category_id  num_item  \\\n0    2.020000e+11  7/15/15 10:45     G816     7000300       210101       1.0   \n1    2.020000e+11  7/15/15 12:16     G816     7070884        70203       1.0   \n\n   price  \n0    2.0  \n1    2.0  \n",
          "output_type": "stream"
        }
      ],
      "execution_count": 80
    },
    {
      "cell_type": "markdown",
      "source": "Slice the first four rows and the first five columns and store the result in a variable called result_3.",
      "metadata": {}
    },
    {
      "cell_type": "code",
      "source": "#Write your code here\nresult_3 = df_data.iloc[:4, :5]\nprint(result_3)\n",
      "metadata": {
        "collapsed": false,
        "jupyter": {
          "outputs_hidden": false
        },
        "trusted": true
      },
      "outputs": [
        {
          "name": "stdout",
          "text": "   invoice_number   invoice_time store_id  product_id  category_id\n0    2.020000e+11  7/15/15 10:45     G816     7000300       210101\n1    2.020000e+11  7/15/15 12:16     G816     7070884        70203\n2    2.020000e+11  7/15/15 12:16     G816     7070884        70203\n3    2.020000e+11  7/15/15 12:16     G816     7070891        70401\n",
          "output_type": "stream"
        }
      ],
      "execution_count": 81
    },
    {
      "cell_type": "markdown",
      "source": "Slice rows 0,4,6 and columns invoice time and price and store the result in variable called result_4.",
      "metadata": {}
    },
    {
      "cell_type": "code",
      "source": "#Write your code here\nresult_4 = df_data.loc[[0, 4, 6], ['invoice_time', 'price']]\nprint(result_4)",
      "metadata": {
        "collapsed": false,
        "jupyter": {
          "outputs_hidden": false
        },
        "trusted": true
      },
      "outputs": [
        {
          "name": "stdout",
          "text": "    invoice_time  price\n0  7/15/15 10:45    2.0\n4  7/15/15 12:16    6.0\n6  7/15/15 15:28    2.0\n",
          "output_type": "stream"
        }
      ],
      "execution_count": 82
    },
    {
      "cell_type": "markdown",
      "source": "Store the number rows in a variable called num_rows.",
      "metadata": {}
    },
    {
      "cell_type": "code",
      "source": "num_rows = df_data.shape[0]\nprint(num_rows)",
      "metadata": {
        "collapsed": false,
        "jupyter": {
          "outputs_hidden": false
        },
        "trusted": true
      },
      "outputs": [
        {
          "name": "stdout",
          "text": "5382\n",
          "output_type": "stream"
        }
      ],
      "execution_count": 83
    },
    {
      "cell_type": "markdown",
      "source": "Print out the last row of the data to dataframe. **Hint:** use the variable num_rows from the previous exercise.",
      "metadata": {}
    },
    {
      "cell_type": "code",
      "source": "#Write your code here\nlast_row = df_data.iloc[num_rows - 1]\nprint(last_row)\n",
      "metadata": {
        "collapsed": false,
        "jupyter": {
          "outputs_hidden": false
        },
        "trusted": true
      },
      "outputs": [
        {
          "name": "stdout",
          "text": "invoice_number    202000000000.0\ninvoice_time        9/5/15 23:38\nstore_id                    G619\nproduct_id              23030206\ncategory_id               210101\nnum_item                     1.0\nprice                        2.0\nName: 5381, dtype: object\n",
          "output_type": "stream"
        }
      ],
      "execution_count": 84
    },
    {
      "cell_type": "markdown",
      "source": "# Part 2",
      "metadata": {}
    },
    {
      "cell_type": "markdown",
      "source": "Compute the average and max price charged.  Store the results in variables called avg_price and max_price",
      "metadata": {}
    },
    {
      "cell_type": "code",
      "source": "#Write your code here\navg_price = df_data['price'].mean()\nmax_price = df_data['price'].max()\n\nprint(\"Average price charged:\", avg_price)\nprint(\"Maximum price charged:\", max_price)\n",
      "metadata": {
        "collapsed": false,
        "jupyter": {
          "outputs_hidden": false
        },
        "trusted": true
      },
      "outputs": [
        {
          "name": "stdout",
          "text": "Average price charged: 3.1920522110741363\nMaximum price charged: 6.01\n",
          "output_type": "stream"
        }
      ],
      "execution_count": 85
    },
    {
      "cell_type": "markdown",
      "source": "Compute the average price and average number of items purchased with only a single call to the mean() method. Store these averages in avg_price and avg_num_items.",
      "metadata": {}
    },
    {
      "cell_type": "code",
      "source": "#Write you code here\navg_price, avg_num_items = df_data[['price', 'num_item']].mean()\n\nprint(\"Average price:\", avg_price)\nprint(\"Average number of items purchased:\", avg_num_items)\n",
      "metadata": {
        "collapsed": false,
        "jupyter": {
          "outputs_hidden": false
        },
        "trusted": true
      },
      "outputs": [
        {
          "name": "stdout",
          "text": "Average price: 3.1920522110741363\nAverage number of items purchased: 1.2983091787439613\n",
          "output_type": "stream"
        }
      ],
      "execution_count": 86
    },
    {
      "cell_type": "markdown",
      "source": "Create a column called \"total\", which is the product of the price and num_item columns.",
      "metadata": {}
    },
    {
      "cell_type": "code",
      "source": "#Write your code here\ndf_data['total'] = df_data['price'] * df_data['num_item']\nprint(df_data)",
      "metadata": {
        "collapsed": false,
        "jupyter": {
          "outputs_hidden": false
        },
        "trusted": true
      },
      "outputs": [
        {
          "name": "stdout",
          "text": "      invoice_number   invoice_time store_id  product_id  category_id  \\\n0       2.020000e+11  7/15/15 10:45     G816     7000300       210101   \n1       2.020000e+11  7/15/15 12:16     G816     7070884        70203   \n2       2.020000e+11  7/15/15 12:16     G816     7070884        70203   \n3       2.020000e+11  7/15/15 12:16     G816     7070891        70401   \n4       2.020000e+11  7/15/15 12:16     G816     7090363        70401   \n...              ...            ...      ...         ...          ...   \n5377    2.020000e+11   9/5/15 23:07      300     7308017       210101   \n5378    2.020000e+11   9/5/15 23:23     G619     7070891        70401   \n5379    2.020000e+11   9/5/15 23:24     G619     7071096        70201   \n5380    2.020000e+11   9/5/15 23:32     G619    15000231        70301   \n5381    2.020000e+11   9/5/15 23:38     G619    23030206       210101   \n\n      num_item  price  total  \n0          1.0    2.0    2.0  \n1          1.0    2.0    2.0  \n2          1.0    2.0    2.0  \n3          1.0    6.0    6.0  \n4          1.0    6.0    6.0  \n...        ...    ...    ...  \n5377       1.0    3.0    3.0  \n5378       1.0    6.0    6.0  \n5379       1.0    5.0    5.0  \n5380       2.0    2.0    4.0  \n5381       1.0    2.0    2.0  \n\n[5382 rows x 8 columns]\n",
          "output_type": "stream"
        }
      ],
      "execution_count": 87
    },
    {
      "cell_type": "markdown",
      "source": "What is the avgerage price of the three most expensive purchases? ",
      "metadata": {}
    },
    {
      "cell_type": "code",
      "source": "#Write your code here\n\nsorted_df = df_data.sort_values(by='price', ascending=False)\n\ntop_three_expensive = sorted_df.head(3)\n\navg_price_top_three = top_three_expensive['price'].mean()\n\nprint(\"Average price of the three most expensive purchases:\", avg_price_top_three)\n",
      "metadata": {
        "collapsed": false,
        "jupyter": {
          "outputs_hidden": false
        },
        "trusted": true
      },
      "outputs": [
        {
          "name": "stdout",
          "text": "Average price of the three most expensive purchases: 6.003333333333333\n",
          "output_type": "stream"
        }
      ],
      "execution_count": 88
    },
    {
      "cell_type": "markdown",
      "source": "How many different products are there?",
      "metadata": {}
    },
    {
      "cell_type": "code",
      "source": "#Write your code here\nnum_unique_products = df_data['product_id'].nunique()\nprint(\"Number of different products:\", num_unique_products)\n",
      "metadata": {
        "collapsed": false,
        "jupyter": {
          "outputs_hidden": false
        },
        "trusted": true
      },
      "outputs": [
        {
          "name": "stdout",
          "text": "Number of different products: 53\n",
          "output_type": "stream"
        }
      ],
      "execution_count": 89
    },
    {
      "cell_type": "markdown",
      "source": "Find the difference between the mean and median of the column total.  Use the describe() method and then index the dataframe it returns.",
      "metadata": {}
    },
    {
      "cell_type": "code",
      "source": "#Write your code here\n\ntotal_stats = df_data['total'].describe()\n\nmean_total = total_stats['mean']\nmedian_total = total_stats['50%']  \n\n# Calculate the difference between the mean and median\ndifference = mean_total - median_total\n\nprint(\"Difference between mean and median of the column 'total':\", difference)\n",
      "metadata": {
        "collapsed": false,
        "jupyter": {
          "outputs_hidden": false
        },
        "trusted": true
      },
      "outputs": [
        {
          "name": "stdout",
          "text": "Difference between mean and median of the column 'total': 0.9318078781127839\n",
          "output_type": "stream"
        }
      ],
      "execution_count": 90
    },
    {
      "cell_type": "markdown",
      "source": "Use the drop() method to delete the column total from the dataframe df_data.",
      "metadata": {}
    },
    {
      "cell_type": "code",
      "source": "#Write your code here\ndf_data = df_data.drop('total', axis=1)\nprint(df_data)\n",
      "metadata": {
        "collapsed": false,
        "jupyter": {
          "outputs_hidden": false
        },
        "trusted": true
      },
      "outputs": [
        {
          "name": "stdout",
          "text": "      invoice_number   invoice_time store_id  product_id  category_id  \\\n0       2.020000e+11  7/15/15 10:45     G816     7000300       210101   \n1       2.020000e+11  7/15/15 12:16     G816     7070884        70203   \n2       2.020000e+11  7/15/15 12:16     G816     7070884        70203   \n3       2.020000e+11  7/15/15 12:16     G816     7070891        70401   \n4       2.020000e+11  7/15/15 12:16     G816     7090363        70401   \n...              ...            ...      ...         ...          ...   \n5377    2.020000e+11   9/5/15 23:07      300     7308017       210101   \n5378    2.020000e+11   9/5/15 23:23     G619     7070891        70401   \n5379    2.020000e+11   9/5/15 23:24     G619     7071096        70201   \n5380    2.020000e+11   9/5/15 23:32     G619    15000231        70301   \n5381    2.020000e+11   9/5/15 23:38     G619    23030206       210101   \n\n      num_item  price  \n0          1.0    2.0  \n1          1.0    2.0  \n2          1.0    2.0  \n3          1.0    6.0  \n4          1.0    6.0  \n...        ...    ...  \n5377       1.0    3.0  \n5378       1.0    6.0  \n5379       1.0    5.0  \n5380       2.0    2.0  \n5381       1.0    2.0  \n\n[5382 rows x 7 columns]\n",
          "output_type": "stream"
        }
      ],
      "execution_count": 91
    },
    {
      "cell_type": "markdown",
      "source": "Let's dig a little deeper into the data set and answer some basic question.",
      "metadata": {}
    },
    {
      "cell_type": "code",
      "source": "#Write your code here\n#hmmm okay",
      "metadata": {
        "collapsed": false,
        "jupyter": {
          "outputs_hidden": false
        },
        "trusted": true
      },
      "outputs": [],
      "execution_count": 22
    },
    {
      "cell_type": "markdown",
      "source": "First, covert the column invoice time to a datetime column. Print out the new column types to make sure this was done correctly",
      "metadata": {}
    },
    {
      "cell_type": "code",
      "source": "#Write your code here\n# Convert 'invoice_time' column to datetime\ndf_data['invoice_time'] = pd.to_datetime(df_data['invoice_time'])\n\nprint(df_data.dtypes)\n",
      "metadata": {
        "collapsed": false,
        "jupyter": {
          "outputs_hidden": false
        },
        "trusted": true
      },
      "outputs": [
        {
          "name": "stdout",
          "text": "invoice_number           float64\ninvoice_time      datetime64[ns]\nstore_id                  object\nproduct_id                 int64\ncategory_id                int64\nnum_item                 float64\nprice                    float64\ndtype: object\n",
          "output_type": "stream"
        }
      ],
      "execution_count": 93
    },
    {
      "cell_type": "markdown",
      "source": "Next, let's create columns called \"DOW\" and \"Month\", which store the corresponding weekday and month of the invoice respectively.  Print the head of the dataframe to make sure this was done correctly.",
      "metadata": {}
    },
    {
      "cell_type": "code",
      "source": "#Write your code here\n\ndf_data['DOW'] = df_data['invoice_time'].dt.weekday\n\n\ndf_data['Month'] = df_data['invoice_time'].dt.month\n\n# Print the head of the dataframe\nprint(df_data.head())\n\n",
      "metadata": {
        "collapsed": false,
        "jupyter": {
          "outputs_hidden": false
        },
        "trusted": true
      },
      "outputs": [
        {
          "name": "stdout",
          "text": "   invoice_number        invoice_time store_id  product_id  category_id  \\\n0    2.020000e+11 2015-07-15 10:45:00     G816     7000300       210101   \n1    2.020000e+11 2015-07-15 12:16:00     G816     7070884        70203   \n2    2.020000e+11 2015-07-15 12:16:00     G816     7070884        70203   \n3    2.020000e+11 2015-07-15 12:16:00     G816     7070891        70401   \n4    2.020000e+11 2015-07-15 12:16:00     G816     7090363        70401   \n\n   num_item  price  DOW  Month  \n0       1.0    2.0    2      7  \n1       1.0    2.0    2      7  \n2       1.0    2.0    2      7  \n3       1.0    6.0    2      7  \n4       1.0    6.0    2      7  \n",
          "output_type": "stream"
        }
      ],
      "execution_count": 94
    },
    {
      "cell_type": "markdown",
      "source": "Create a variable called num_purchases_wed, which stores the number of purchases made on Wednesday?  You should use value_counts and then index the series it return.",
      "metadata": {}
    },
    {
      "cell_type": "code",
      "source": "#Write your code here\nweekday_counts = df_data['DOW'].value_counts()\n\nnum_purchases_wed = weekday_counts[2]\n\nprint(\"Number of purchases made on Wednesday:\", num_purchases_wed)",
      "metadata": {
        "collapsed": false,
        "jupyter": {
          "outputs_hidden": false
        },
        "trusted": true
      },
      "outputs": [
        {
          "name": "stdout",
          "text": "Number of purchases made on Wednesday: 959\n",
          "output_type": "stream"
        }
      ],
      "execution_count": 95
    },
    {
      "cell_type": "markdown",
      "source": "# Part 3",
      "metadata": {}
    },
    {
      "cell_type": "markdown",
      "source": "In this set of practice exercises, we will be working with a demographic data regarding the passengers aboard the Titanic.  Read in the data frame and use the head() method to check that it was read in correctly.",
      "metadata": {}
    },
    {
      "cell_type": "code",
      "source": "#Write your code here\ndf_data = pd.read_csv(\"Titanic.csv\")\nprint(df_data.head())",
      "metadata": {
        "collapsed": false,
        "jupyter": {
          "outputs_hidden": false
        },
        "trusted": true
      },
      "outputs": [
        {
          "name": "stdout",
          "text": "   PassengerId  Pclass                                          Name     Sex  \\\n0          892       3                              Kelly, Mr. James    male   \n1          893       3              Wilkes, Mrs. James (Ellen Needs)  female   \n2          894       2                     Myles, Mr. Thomas Francis    male   \n3          895       3                              Wirz, Mr. Albert    male   \n4          896       3  Hirvonen, Mrs. Alexander (Helga E Lindqvist)  female   \n\n    Age  SibSp  Parch   Ticket     Fare Cabin Embarked  \n0  34.5      0      0   330911   7.8292   NaN        Q  \n1  47.0      1      0   363272   7.0000   NaN        S  \n2  62.0      0      0   240276   9.6875   NaN        Q  \n3  27.0      0      0   315154   8.6625   NaN        S  \n4  22.0      1      1  3101298  12.2875   NaN        S  \n",
          "output_type": "stream"
        }
      ],
      "execution_count": 96
    },
    {
      "cell_type": "markdown",
      "source": "Use the rename method to change the column \"Name\" to \"Passenger_Name\" and the column \"Ticket\" to \"Ticket_Num\".",
      "metadata": {}
    },
    {
      "cell_type": "code",
      "source": "#Write your code here\n# Rename the columns\ndf_data = df_data.rename(columns={'Name': 'Passenger_Name', 'Ticket': 'Ticket_Num'})\n\n# Print the head of the DataFrame to verify the changes\nprint(df_data.head())\n",
      "metadata": {
        "collapsed": false,
        "jupyter": {
          "outputs_hidden": false
        },
        "trusted": true
      },
      "outputs": [
        {
          "name": "stdout",
          "text": "   PassengerId  Pclass                                Passenger_Name     Sex  \\\n0          892       3                              Kelly, Mr. James    male   \n1          893       3              Wilkes, Mrs. James (Ellen Needs)  female   \n2          894       2                     Myles, Mr. Thomas Francis    male   \n3          895       3                              Wirz, Mr. Albert    male   \n4          896       3  Hirvonen, Mrs. Alexander (Helga E Lindqvist)  female   \n\n    Age  SibSp  Parch Ticket_Num     Fare Cabin Embarked  \n0  34.5      0      0     330911   7.8292   NaN        Q  \n1  47.0      1      0     363272   7.0000   NaN        S  \n2  62.0      0      0     240276   9.6875   NaN        Q  \n3  27.0      0      0     315154   8.6625   NaN        S  \n4  22.0      1      1    3101298  12.2875   NaN        S  \n",
          "output_type": "stream"
        }
      ],
      "execution_count": 97
    },
    {
      "cell_type": "markdown",
      "source": "Change the index of the df_titanic to the column PasengerID.",
      "metadata": {}
    },
    {
      "cell_type": "code",
      "source": "#Write your code here\n# Change the index to the \"PassengerId\" column\ndf_data.set_index('PassengerId', inplace=True)\n\nprint(df_data.head())\n",
      "metadata": {
        "collapsed": false,
        "scrolled": true,
        "jupyter": {
          "outputs_hidden": false
        },
        "trusted": true
      },
      "outputs": [
        {
          "name": "stdout",
          "text": "             Pclass                                Passenger_Name     Sex  \\\nPassengerId                                                                 \n892               3                              Kelly, Mr. James    male   \n893               3              Wilkes, Mrs. James (Ellen Needs)  female   \n894               2                     Myles, Mr. Thomas Francis    male   \n895               3                              Wirz, Mr. Albert    male   \n896               3  Hirvonen, Mrs. Alexander (Helga E Lindqvist)  female   \n\n              Age  SibSp  Parch Ticket_Num     Fare Cabin Embarked  \nPassengerId                                                         \n892          34.5      0      0     330911   7.8292   NaN        Q  \n893          47.0      1      0     363272   7.0000   NaN        S  \n894          62.0      0      0     240276   9.6875   NaN        Q  \n895          27.0      0      0     315154   8.6625   NaN        S  \n896          22.0      1      1    3101298  12.2875   NaN        S  \n",
          "output_type": "stream"
        }
      ],
      "execution_count": 98
    },
    {
      "cell_type": "markdown",
      "source": "Select the name of passenger 896",
      "metadata": {}
    },
    {
      "cell_type": "code",
      "source": "#Write your code here\npassenger_896_name = df_data.loc[896, 'Passenger_Name']\nprint(\"Name of passenger 896:\", passenger_896_name)\n",
      "metadata": {
        "collapsed": false,
        "jupyter": {
          "outputs_hidden": false
        },
        "trusted": true
      },
      "outputs": [
        {
          "name": "stdout",
          "text": "Name of passenger 896: Hirvonen, Mrs. Alexander (Helga E Lindqvist)\n",
          "output_type": "stream"
        }
      ],
      "execution_count": 99
    },
    {
      "cell_type": "markdown",
      "source": "Change the index back to row numbers but making sure that we don't lose the PassengerId column. ",
      "metadata": {}
    },
    {
      "cell_type": "code",
      "source": "#Write your code here\ndf_data.reset_index(inplace=True)\n\nprint(df_data.head())\n",
      "metadata": {
        "collapsed": false,
        "jupyter": {
          "outputs_hidden": false
        },
        "trusted": true
      },
      "outputs": [
        {
          "name": "stdout",
          "text": "   index  PassengerId  Pclass                                Passenger_Name  \\\n0      0          892       3                              Kelly, Mr. James   \n1      1          893       3              Wilkes, Mrs. James (Ellen Needs)   \n2      2          894       2                     Myles, Mr. Thomas Francis   \n3      3          895       3                              Wirz, Mr. Albert   \n4      4          896       3  Hirvonen, Mrs. Alexander (Helga E Lindqvist)   \n\n      Sex   Age  SibSp  Parch Ticket_Num     Fare Cabin Embarked  \n0    male  34.5      0      0     330911   7.8292   NaN        Q  \n1  female  47.0      1      0     363272   7.0000   NaN        S  \n2    male  62.0      0      0     240276   9.6875   NaN        Q  \n3    male  27.0      0      0     315154   8.6625   NaN        S  \n4  female  22.0      1      1    3101298  12.2875   NaN        S  \n",
          "output_type": "stream"
        }
      ],
      "execution_count": 103
    },
    {
      "cell_type": "markdown",
      "source": "How many missing entries are there in the Age column? Use the isnull() method and recall than Booleans are exactly like 1s (True) and 0s (False).",
      "metadata": {}
    },
    {
      "cell_type": "code",
      "source": "#Write you code here\n# Count the number of missing entries in the \"Age\" column\nmissing_age_count = df_data['Age'].isnull().sum()\n\nprint(\"Number of missing entries in the 'Age' column:\", missing_age_count)\n",
      "metadata": {
        "collapsed": false,
        "jupyter": {
          "outputs_hidden": false
        },
        "trusted": true
      },
      "outputs": [
        {
          "name": "stdout",
          "text": "Number of missing entries in the 'Age' column: 86\n",
          "output_type": "stream"
        }
      ],
      "execution_count": 104
    },
    {
      "cell_type": "markdown",
      "source": "Compute the avg age of passengers ignoring the missing data.",
      "metadata": {}
    },
    {
      "cell_type": "code",
      "source": "#Write your code here\n# Compute the average age of passengers and ignoring the missing data\navg_age = df_data['Age'].mean()\n\nprint(\"Average age of passengers (ignoring missing data):\", avg_age)\n",
      "metadata": {
        "collapsed": false,
        "jupyter": {
          "outputs_hidden": false
        },
        "trusted": true
      },
      "outputs": [
        {
          "name": "stdout",
          "text": "Average age of passengers (ignoring missing data): 30.272590361445783\n",
          "output_type": "stream"
        }
      ],
      "execution_count": 105
    },
    {
      "cell_type": "markdown",
      "source": "Using the fillna() method replace the missing values in the Age column with the mean.",
      "metadata": {}
    },
    {
      "cell_type": "code",
      "source": "#Write your code here\n# Compute the mean age\nmean_age = df_data['Age'].mean()\n\ndf_data['Age'].fillna(mean_age, inplace=True)\n\nprint(df_data)",
      "metadata": {
        "collapsed": false,
        "jupyter": {
          "outputs_hidden": false
        },
        "trusted": true
      },
      "outputs": [
        {
          "name": "stdout",
          "text": "     index  PassengerId  Pclass                                Passenger_Name  \\\n0        0          892       3                              Kelly, Mr. James   \n1        1          893       3              Wilkes, Mrs. James (Ellen Needs)   \n2        2          894       2                     Myles, Mr. Thomas Francis   \n3        3          895       3                              Wirz, Mr. Albert   \n4        4          896       3  Hirvonen, Mrs. Alexander (Helga E Lindqvist)   \n..     ...          ...     ...                                           ...   \n413    413         1305       3                            Spector, Mr. Woolf   \n414    414         1306       1                  Oliva y Ocana, Dona. Fermina   \n415    415         1307       3                  Saether, Mr. Simon Sivertsen   \n416    416         1308       3                           Ware, Mr. Frederick   \n417    417         1309       3                      Peter, Master. Michael J   \n\n        Sex       Age  SibSp  Parch          Ticket_Num      Fare Cabin  \\\n0      male  34.50000      0      0              330911    7.8292   NaN   \n1    female  47.00000      1      0              363272    7.0000   NaN   \n2      male  62.00000      0      0              240276    9.6875   NaN   \n3      male  27.00000      0      0              315154    8.6625   NaN   \n4    female  22.00000      1      1             3101298   12.2875   NaN   \n..      ...       ...    ...    ...                 ...       ...   ...   \n413    male  30.27259      0      0           A.5. 3236    8.0500   NaN   \n414  female  39.00000      0      0            PC 17758  108.9000  C105   \n415    male  38.50000      0      0  SOTON/O.Q. 3101262    7.2500   NaN   \n416    male  30.27259      0      0              359309    8.0500   NaN   \n417    male  30.27259      1      1                2668   22.3583   NaN   \n\n    Embarked  \n0          Q  \n1          S  \n2          Q  \n3          S  \n4          S  \n..       ...  \n413        S  \n414        C  \n415        S  \n416        S  \n417        C  \n\n[418 rows x 12 columns]\n",
          "output_type": "stream"
        }
      ],
      "execution_count": 106
    },
    {
      "cell_type": "markdown",
      "source": "What is the average age of the 5 oldest passengers? The reset_index method will be helpful here.",
      "metadata": {}
    },
    {
      "cell_type": "code",
      "source": "#Write your code here\n# Sort the DataFrame by the \"Age\" column in descending order\ndf_data_sorted = df_data.sort_values(by='Age', ascending=False)\n\n# Take the first 5 rows after sorting to get the 5 oldest passengers\nfive_oldest_passengers = df_data_sorted.head(5)\n\n# Compute the average age of the 5 oldest passengers\navg_age_oldest = five_oldest_passengers['Age'].mean()\n\nprint(\"Average age of the 5 oldest passengers:\", avg_age_oldest)\n",
      "metadata": {
        "collapsed": false,
        "jupyter": {
          "outputs_hidden": false
        },
        "trusted": true
      },
      "outputs": [
        {
          "name": "stdout",
          "text": "Average age of the 5 oldest passengers: 67.0\n",
          "output_type": "stream"
        }
      ],
      "execution_count": 40
    },
    {
      "cell_type": "code",
      "source": "",
      "metadata": {
        "trusted": true
      },
      "outputs": [],
      "execution_count": null
    }
  ]
}